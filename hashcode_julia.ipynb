{
 "cells": [
  {
   "cell_type": "code",
   "execution_count": 1,
   "metadata": {
    "collapsed": false
   },
   "outputs": [
    {
     "data": {
      "text/plain": [
       "Problem"
      ]
     },
     "execution_count": 1,
     "metadata": {},
     "output_type": "execute_result"
    }
   ],
   "source": [
    "using DataStructures\n",
    "using Parameters\n",
    "@with_kw type Problem\n",
    "    V::Int32 = 0\n",
    "    E::Int32 = 0\n",
    "    R::Int32 = 0\n",
    "    C::Int32 = 0\n",
    "    X::Int32 = 0\n",
    "    video_sizes::Array{Int32} = Array{Int32}(0)\n",
    "    endpoint_to_cache_to_latency::DefaultDict{Int32, Dict{Int32, Int32}} = DefaultDict{Int32, Dict{Int32, Int32}}(() -> Dict{Int32, Int32}())\n",
    "    video_endpoint_popularity::Array{Tuple{Int32, Int32, Int32}} = Array{Tuple{Int32, Int32, Int32}}(0) \n",
    "    \n",
    "    cache_to_videos::Array{IntSet} = Array{IntSet}(0)\n",
    "    cache_size::Array{Int32} = Array{Int32}(0)\n",
    "end"
   ]
  },
  {
   "cell_type": "code",
   "execution_count": 2,
   "metadata": {
    "collapsed": false,
    "scrolled": true
   },
   "outputs": [
    {
     "data": {
      "text/plain": [
       "read_problem (generic function with 1 method)"
      ]
     },
     "execution_count": 2,
     "metadata": {},
     "output_type": "execute_result"
    }
   ],
   "source": [
    "function read_problem(filename)\n",
    "    p = Problem()\n",
    "    open(filename) do f\n",
    "        p.V, p.E, p.R, p.C, p.X = readdlm(IOBuffer(readline(f)), ' ', Int32)\n",
    "        p.video_sizes = readdlm(IOBuffer(readline(f)), ' ', Int32)[1, :]\n",
    "        p.endpoint_to_cache_to_latency = DefaultDict{Int32, Dict{Int32, Int32}}(() -> Dict{Int32, Int32}())\n",
    "        for e = 1:p.E\n",
    "            dc_latency, K = readdlm(IOBuffer(readline(f)), ' ', Int32)\n",
    "            for k = 1:K\n",
    "                c, latency = readdlm(IOBuffer(readline(f)), ' ', Int32)\n",
    "                p.endpoint_to_cache_to_latency[e][c] = latency\n",
    "            end\n",
    "        end\n",
    "\n",
    "        p.video_endpoint_popularity = Array{Tuple{Int32, Int32, Int32}}(p.R) \n",
    "        for r = 1:p.R\n",
    "            v, e, pop = readdlm(IOBuffer(readline(f)), ' ', Int32)\n",
    "            p.video_endpoint_popularity[r] = v, e, pop\n",
    "        end\n",
    "    end\n",
    "    return p\n",
    "end"
   ]
  },
  {
   "cell_type": "code",
   "execution_count": 5,
   "metadata": {
    "collapsed": false
   },
   "outputs": [
    {
     "name": "stderr",
     "output_type": "stream",
     "text": [
      "WARNING: Method definition solve(Any) in module Main"
     ]
    },
    {
     "data": {
      "text/plain": [
       "solve (generic function with 1 method)"
      ]
     },
     "execution_count": 5,
     "metadata": {},
     "output_type": "execute_result"
    },
    {
     "name": "stderr",
     "output_type": "stream",
     "text": [
      " at In[3]:2 overwritten at In[5]:2.\n"
     ]
    }
   ],
   "source": [
    "function solve(p)\n",
    "    sort!(p.video_endpoint_popularity, by=x -> x[3], rev=true)\n",
    "    p.cache_to_videos = [IntSet() for _ in 1:p.C]\n",
    "    p.cache_size = fill(Int32(0), p.C)\n",
    "    for vep in p.video_endpoint_popularity\n",
    "        v, e, pop = vep\n",
    "        c_min, l_min = Inf, Inf\n",
    "        for c_l in p.endpoint_to_cache_to_latency[e + 1]\n",
    "            c, l = c_l\n",
    "            if p.video_sizes[v + 1] + p.cache_size[c + 1] <= p.X\n",
    "                if l_min > l\n",
    "                    c_min, l_min = c, l\n",
    "                end\n",
    "            end\n",
    "        end\n",
    "        if l_min != Inf\n",
    "            p.cache_size[c_min + 1] += p.video_sizes[v + 1]\n",
    "            push!(p.cache_to_videos[c_min + 1], v + 1)\n",
    "        end\n",
    "    end\n",
    "end"
   ]
  },
  {
   "cell_type": "code",
   "execution_count": 6,
   "metadata": {
    "collapsed": false
   },
   "outputs": [],
   "source": [
    "p = read_problem(\"me_at_the_zoo.in\")\n",
    "solve(p)"
   ]
  },
  {
   "cell_type": "code",
   "execution_count": 7,
   "metadata": {
    "collapsed": false
   },
   "outputs": [
    {
     "data": {
      "text/plain": [
       "10-element Array{IntSet,1}:\n",
       " IntSet([1, 6, 9, 83, 100])   \n",
       " IntSet([1, 2, 3, 6, 66])     \n",
       " IntSet([1, 3, 17, 20])       \n",
       " IntSet([1, 5, 6, 11, 17, 31])\n",
       " IntSet([1, 11, 18, 33, 82])  \n",
       " IntSet([1, 8, 14])           \n",
       " IntSet([1, 3, 5])            \n",
       " IntSet([6, 17, 22, 31, 75])  \n",
       " IntSet([1, 4, 7, 9, 11, 17]) \n",
       " IntSet([1, 2, 5, 9, 17])     "
      ]
     },
     "execution_count": 7,
     "metadata": {},
     "output_type": "execute_result"
    }
   ],
   "source": [
    "p.cache_to_videos"
   ]
  },
  {
   "cell_type": "code",
   "execution_count": 8,
   "metadata": {
    "collapsed": false
   },
   "outputs": [
    {
     "data": {
      "text/plain": [
       "10-element Array{Array{Int32,1},1}:\n",
       " Int32[20,3,40,12,5]  \n",
       " Int32[20,11,50,3,16] \n",
       " Int32[20,50,1,27]    \n",
       " Int32[20,5,3,4,1,46] \n",
       " Int32[20,4,37,15,4]  \n",
       " Int32[20,32,27]      \n",
       " Int32[20,50,5]       \n",
       " Int32[3,1,33,46,12]  \n",
       " Int32[20,26,6,40,4,1]\n",
       " Int32[20,11,5,40,1]  "
      ]
     },
     "execution_count": 8,
     "metadata": {},
     "output_type": "execute_result"
    }
   ],
   "source": [
    "[ [p.video_sizes[j] for j in i ] for i in p.cache_to_videos]"
   ]
  },
  {
   "cell_type": "code",
   "execution_count": null,
   "metadata": {
    "collapsed": true
   },
   "outputs": [],
   "source": []
  }
 ],
 "metadata": {
  "anaconda-cloud": {},
  "kernelspec": {
   "display_name": "Julia 0.5.0",
   "language": "julia",
   "name": "julia-0.5"
  },
  "language_info": {
   "file_extension": ".jl",
   "mimetype": "application/julia",
   "name": "julia",
   "version": "0.5.0"
  }
 },
 "nbformat": 4,
 "nbformat_minor": 1
}
