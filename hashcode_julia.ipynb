{
 "cells": [
  {
   "cell_type": "code",
   "execution_count": 1,
   "metadata": {
    "collapsed": false
   },
   "outputs": [
    {
     "data": {
      "text/plain": [
       "Problem"
      ]
     },
     "execution_count": 1,
     "metadata": {},
     "output_type": "execute_result"
    }
   ],
   "source": [
    "using DataStructures\n",
    "using Parameters\n",
    "@with_kw type Problem\n",
    "    V::UInt16 = 0\n",
    "    E::UInt16 = 0\n",
    "    R::UInt32 = 0\n",
    "    C::UInt16 = 0\n",
    "    X::UInt32 = 0\n",
    "    \n",
    "    video_sizes::Array{UInt16} = Array{UInt16}(0)\n",
    "    dc_latencies::Array{UInt16} = Array{UInt16}(0)\n",
    "    endpoint_to_cache_to_latency::DefaultDict{UInt16, Dict{UInt16, UInt16}} = DefaultDict{UInt16, Dict{UInt16, UInt16}}(() -> Dict{UInt16, UInt16}())\n",
    "    video_endpoint_popularity::Array{Tuple{UInt16, UInt16, UInt16}} = Array{Tuple{UInt16, UInt16, UInt16}}(0) \n",
    "    \n",
    "    cache_to_videos::Array{IntSet} = Array{IntSet}(0)\n",
    "    cache_size::Array{UInt16} = Array{UInt16}(0)\n",
    "end"
   ]
  },
  {
   "cell_type": "code",
   "execution_count": 2,
   "metadata": {
    "collapsed": false,
    "scrolled": true
   },
   "outputs": [
    {
     "data": {
      "text/plain": [
       "read_problem (generic function with 1 method)"
      ]
     },
     "execution_count": 2,
     "metadata": {},
     "output_type": "execute_result"
    }
   ],
   "source": [
    "function read_problem(filename)\n",
    "    p = Problem()\n",
    "    open(filename) do f\n",
    "        p.V, p.E, p.R, p.C, p.X = readdlm(IOBuffer(readline(f)), ' ', UInt32)\n",
    "        p.video_sizes = readdlm(IOBuffer(readline(f)), ' ', UInt16)[1, :]\n",
    "        p.endpoint_to_cache_to_latency = DefaultDict{UInt16, Dict{UInt16, UInt16}}(() -> Dict{UInt16, UInt16}())\n",
    "        p.dc_latencies = Array{UInt16}(p.E)\n",
    "        for e = 1:p.E\n",
    "            p.dc_latencies[e], K = readdlm(IOBuffer(readline(f)), ' ', UInt16)\n",
    "            for k = 1:K\n",
    "                c, latency = readdlm(IOBuffer(readline(f)), ' ', UInt16)\n",
    "                p.endpoint_to_cache_to_latency[e][c + 1] = latency\n",
    "            end\n",
    "        end\n",
    "        p.video_endpoint_popularity = [ (v + 1, e + 1, pop) for (v, e, pop) in [readdlm(IOBuffer(readline(f)), ' ', UInt16) for _ in 1:p.R] ]\n",
    "    end\n",
    "    return p\n",
    "end"
   ]
  },
  {
   "cell_type": "code",
   "execution_count": 4,
   "metadata": {
    "collapsed": false
   },
   "outputs": [
    {
     "data": {
      "text/plain": [
       "score (generic function with 1 method)"
      ]
     },
     "execution_count": 4,
     "metadata": {},
     "output_type": "execute_result"
    }
   ],
   "source": [
    "function score(p)\n",
    "    s, p_s = UInt128(0), UInt128(0)\n",
    "    for (v, e, pop) in p.video_endpoint_popularity\n",
    "        min_latency = p.dc_latencies[e]\n",
    "        for (c, l) in p.endpoint_to_cache_to_latency[e]\n",
    "            if in(v, p.cache_to_videos[c])\n",
    "                if min_latency > l\n",
    "                    min_latency = l\n",
    "                end \n",
    "            end\n",
    "        end\n",
    "        if min_latency != p.dc_latencies[e]\n",
    "            s += UInt128(p.dc_latencies[e] - min_latency) * pop\n",
    "        end        \n",
    "        p_s += pop \n",
    "    end\n",
    "    return floor(UInt32, s  * 1000 / p_s)\n",
    "end"
   ]
  },
  {
   "cell_type": "code",
   "execution_count": 5,
   "metadata": {
    "collapsed": false
   },
   "outputs": [
    {
     "data": {
      "text/plain": [
       "write_solution (generic function with 1 method)"
      ]
     },
     "execution_count": 5,
     "metadata": {},
     "output_type": "execute_result"
    }
   ],
   "source": [
    "function write_solution(filename, p)\n",
    "    open(filename, \"w\") do out\n",
    "        write(out, string(length(p.cache_to_videos)) * \"\\n\")\n",
    "        for (i, videos) in enumerate(p.cache_to_videos)\n",
    "            write(out, string(i - 1) * \" \" * join([k - 1 for k in videos], \" \") * \"\\n\")\n",
    "        end\n",
    "    end\n",
    "end"
   ]
  },
  {
   "cell_type": "code",
   "execution_count": 6,
   "metadata": {
    "collapsed": false
   },
   "outputs": [
    {
     "data": {
      "text/plain": [
       "handle (generic function with 1 method)"
      ]
     },
     "execution_count": 6,
     "metadata": {},
     "output_type": "execute_result"
    }
   ],
   "source": [
    "function handle(f)\n",
    "    p = read_problem(f * \".in\")\n",
    "    solve(p)\n",
    "    write_solution(f * \".out\", p)\n",
    "    return p\n",
    "end"
   ]
  },
  {
   "cell_type": "code",
   "execution_count": 79,
   "metadata": {
    "collapsed": false
   },
   "outputs": [
    {
     "name": "stderr",
     "output_type": "stream",
     "text": [
      "WARNING: Method definition solve("
     ]
    },
    {
     "data": {
      "text/plain": [
       "solve (generic function with 1 method)"
      ]
     },
     "execution_count": 79,
     "metadata": {},
     "output_type": "execute_result"
    },
    {
     "name": "stderr",
     "output_type": "stream",
     "text": [
      "Any) in module Main at In[77]:2 overwritten at In[79]:2.\n"
     ]
    }
   ],
   "source": [
    "function solve(p)\n",
    "    endpoint_count = [length(p.endpoint_to_cache_to_latency[i]) for i in 1:p.E]\n",
    "    endpoint_meta = [length(p.endpoint_to_cache_to_latency[i]) > 0 ? mean(values(p.endpoint_to_cache_to_latency[i])) - 2*std(values(p.endpoint_to_cache_to_latency[i])) :  p.dc_latencies[i] - 1 for i in 1:p.E]\n",
    "    sort!(p.video_endpoint_popularity, by=x -> (p.dc_latencies[x[2]] - endpoint_meta[x[2]]) * x[3], rev=true)\n",
    "    p.cache_to_videos = [IntSet() for _ in 1:p.C]\n",
    "    p.cache_size = fill(UInt32(0), p.C)\n",
    "    for (v, e, pop) in p.video_endpoint_popularity\n",
    "        c_min, l_min = Inf, Inf\n",
    "        for (c, l) in p.endpoint_to_cache_to_latency[e]\n",
    "            if p.video_sizes[v] + p.cache_size[c] <= p.X\n",
    "                if l_min > l\n",
    "                    c_min, l_min = c, l\n",
    "                end\n",
    "            end\n",
    "        end\n",
    "        if l_min != Inf\n",
    "            d = join([dec(k) * \"->\" * dec(v) for (k, v) in p.endpoint_to_cache_to_latency[e]], \" \")\n",
    "            p.cache_size[c_min] += p.video_sizes[v]\n",
    "            push!(p.cache_to_videos[c_min], v)\n",
    "        end\n",
    "    end\n",
    "end"
   ]
  },
  {
   "cell_type": "code",
   "execution_count": null,
   "metadata": {
    "collapsed": false,
    "scrolled": true
   },
   "outputs": [
    {
     "name": "stdout",
     "output_type": "stream",
     "text": [
      "start videos_worth_spreading\n",
      "  2.704082 seconds (14.33 M allocations: 4.157 GB, 29.31% gc time)\n",
      "  0.032013 seconds (100.00 k allocations: 1.526 MB)\n",
      "done videos_worth_spreading 451611\n",
      "start trending_today\n",
      "  2.843837 seconds (12.04 M allocations: 4.754 GB, 28.06% gc time)\n"
     ]
    }
   ],
   "source": [
    "r = []\n",
    "for k in [\"videos_worth_spreading\", \"trending_today\", \"me_at_the_zoo\", \"kittens\"]\n",
    "    println(\"start $k\")\n",
    "    @time p = handle(k)\n",
    "    @time v = score(p)\n",
    "    println(\"done $k $(dec(v))\")\n",
    "    push!(r, v)\n",
    "end\n",
    "for i in reverse(r)\n",
    "    println(dec(i))\n",
    "end\n",
    "println(dec(sum(r)))"
   ]
  },
  {
   "cell_type": "code",
   "execution_count": 31,
   "metadata": {
    "collapsed": false
   },
   "outputs": [
    {
     "name": "stdout",
     "output_type": "stream",
     "text": [
      "search: \u001b[1mm\u001b[22m\u001b[1me\u001b[22m\u001b[1ma\u001b[22m\u001b[1mn\u001b[22m \u001b[1mm\u001b[22m\u001b[1me\u001b[22m\u001b[1ma\u001b[22m\u001b[1mn\u001b[22m! \u001b[1mm\u001b[22m\u001b[1me\u001b[22mdi\u001b[1ma\u001b[22m\u001b[1mn\u001b[22m \u001b[1mm\u001b[22m\u001b[1me\u001b[22mdi\u001b[1ma\u001b[22m\u001b[1mn\u001b[22m! Re\u001b[1mm\u001b[22mot\u001b[1me\u001b[22mCh\u001b[1ma\u001b[22m\u001b[1mn\u001b[22mnel Seg\u001b[1mm\u001b[22m\u001b[1me\u001b[22mnt\u001b[1ma\u001b[22mtio\u001b[1mn\u001b[22mFault \u001b[1mm\u001b[22macro\u001b[1me\u001b[22mxp\u001b[1ma\u001b[22m\u001b[1mn\u001b[22md\n",
      "\n"
     ]
    },
    {
     "data": {
      "text/markdown": [
       "```\n",
       "mean(f::Function, v)\n",
       "```\n",
       "\n",
       "Apply the function `f` to each element of `v` and take the mean.\n",
       "\n",
       "```\n",
       "mean(v[, region])\n",
       "```\n",
       "\n",
       "Compute the mean of whole array `v`, or optionally along the dimensions in `region`.\n",
       "\n",
       "!!! note\n",
       "    Julia does not ignore `NaN` values in the computation. For applications requiring the handling of missing data, the `DataArrays.jl` package is recommended.\n",
       "\n"
      ],
      "text/plain": [
       "```\n",
       "mean(f::Function, v)\n",
       "```\n",
       "\n",
       "Apply the function `f` to each element of `v` and take the mean.\n",
       "\n",
       "```\n",
       "mean(v[, region])\n",
       "```\n",
       "\n",
       "Compute the mean of whole array `v`, or optionally along the dimensions in `region`.\n",
       "\n",
       "!!! note\n",
       "    Julia does not ignore `NaN` values in the computation. For applications requiring the handling of missing data, the `DataArrays.jl` package is recommended.\n",
       "\n"
      ]
     },
     "execution_count": 31,
     "metadata": {},
     "output_type": "execute_result"
    }
   ],
   "source": [
    "?mean"
   ]
  },
  {
   "cell_type": "code",
   "execution_count": null,
   "metadata": {
    "collapsed": true
   },
   "outputs": [],
   "source": []
  }
 ],
 "metadata": {
  "anaconda-cloud": {},
  "kernelspec": {
   "display_name": "Julia 0.5.0",
   "language": "julia",
   "name": "julia-0.5"
  },
  "language_info": {
   "file_extension": ".jl",
   "mimetype": "application/julia",
   "name": "julia",
   "version": "0.5.0"
  }
 },
 "nbformat": 4,
 "nbformat_minor": 1
}
