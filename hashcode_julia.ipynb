{
 "cells": [
  {
   "cell_type": "code",
   "execution_count": 1,
   "metadata": {
    "collapsed": false
   },
   "outputs": [
    {
     "data": {
      "text/plain": [
       "Problem"
      ]
     },
     "execution_count": 1,
     "metadata": {},
     "output_type": "execute_result"
    }
   ],
   "source": [
    "using DataStructures\n",
    "using Parameters\n",
    "@with_kw type Problem\n",
    "    V::UInt16 = 0\n",
    "    E::UInt16 = 0\n",
    "    R::UInt32 = 0\n",
    "    C::UInt16 = 0\n",
    "    X::UInt32 = 0\n",
    "    \n",
    "    video_sizes::Array{UInt16} = Array{UInt16}(0)\n",
    "    dc_latencies::Array{UInt16} = Array{UInt16}(0)\n",
    "    endpoint_to_cache_to_latency::DefaultDict{UInt16, Dict{UInt16, UInt16}} = DefaultDict{UInt16, Dict{UInt16, UInt16}}(() -> Dict{UInt16, UInt16}())\n",
    "    video_endpoint_popularity::Array{Tuple{UInt16, UInt16, UInt16}} = Array{Tuple{UInt16, UInt16, UInt16}}(0) \n",
    "    \n",
    "    cache_to_videos::Array{IntSet} = Array{IntSet}(0)\n",
    "    cache_size::Array{UInt16} = Array{UInt16}(0)\n",
    "end"
   ]
  },
  {
   "cell_type": "code",
   "execution_count": 2,
   "metadata": {
    "collapsed": false,
    "scrolled": true
   },
   "outputs": [
    {
     "data": {
      "text/plain": [
       "read_problem (generic function with 1 method)"
      ]
     },
     "execution_count": 2,
     "metadata": {},
     "output_type": "execute_result"
    }
   ],
   "source": [
    "function read_problem(filename)\n",
    "    p = Problem()\n",
    "    open(filename) do f\n",
    "        p.V, p.E, p.R, p.C, p.X = readdlm(IOBuffer(readline(f)), ' ', UInt32)\n",
    "        p.video_sizes = readdlm(IOBuffer(readline(f)), ' ', UInt16)[1, :]\n",
    "        p.endpoint_to_cache_to_latency = DefaultDict{UInt16, Dict{UInt16, UInt16}}(() -> Dict{UInt16, UInt16}())\n",
    "        p.dc_latencies = Array{UInt16}(p.E)\n",
    "        for e = 1:p.E\n",
    "            p.dc_latencies[e], K = readdlm(IOBuffer(readline(f)), ' ', UInt16)\n",
    "            for k = 1:K\n",
    "                c, latency = readdlm(IOBuffer(readline(f)), ' ', UInt16)\n",
    "                p.endpoint_to_cache_to_latency[e][c + 1] = latency\n",
    "            end\n",
    "        end\n",
    "        p.video_endpoint_popularity = [ (v + 1, e + 1, pop) for (v, e, pop) in [readdlm(IOBuffer(readline(f)), ' ', UInt16) for _ in 1:p.R] ]\n",
    "    end\n",
    "    return p\n",
    "end"
   ]
  },
  {
   "cell_type": "code",
   "execution_count": 4,
   "metadata": {
    "collapsed": false
   },
   "outputs": [
    {
     "data": {
      "text/plain": [
       "score (generic function with 1 method)"
      ]
     },
     "execution_count": 4,
     "metadata": {},
     "output_type": "execute_result"
    }
   ],
   "source": [
    "function score(p)\n",
    "    s, p_s = UInt128(0), UInt128(0)\n",
    "    for (v, e, pop) in p.video_endpoint_popularity\n",
    "        min_latency = p.dc_latencies[e]\n",
    "        for (c, l) in p.endpoint_to_cache_to_latency[e]\n",
    "            if in(v, p.cache_to_videos[c])\n",
    "                if min_latency > l\n",
    "                    min_latency = l\n",
    "                end \n",
    "            end\n",
    "        end\n",
    "        if min_latency != p.dc_latencies[e]\n",
    "            s += UInt128(p.dc_latencies[e] - min_latency) * pop\n",
    "        end        \n",
    "        p_s += pop \n",
    "    end\n",
    "    return floor(UInt32, s  * 1000 / p_s)\n",
    "end"
   ]
  },
  {
   "cell_type": "code",
   "execution_count": 5,
   "metadata": {
    "collapsed": false
   },
   "outputs": [
    {
     "data": {
      "text/plain": [
       "write_solution (generic function with 1 method)"
      ]
     },
     "execution_count": 5,
     "metadata": {},
     "output_type": "execute_result"
    }
   ],
   "source": [
    "function write_solution(filename, p)\n",
    "    open(filename, \"w\") do out\n",
    "        write(out, string(length(p.cache_to_videos)) * \"\\n\")\n",
    "        for (i, videos) in enumerate(p.cache_to_videos)\n",
    "            write(out, string(i - 1) * \" \" * join([k - 1 for k in videos], \" \") * \"\\n\")\n",
    "        end\n",
    "    end\n",
    "end"
   ]
  },
  {
   "cell_type": "code",
   "execution_count": 6,
   "metadata": {
    "collapsed": false
   },
   "outputs": [
    {
     "data": {
      "text/plain": [
       "handle (generic function with 1 method)"
      ]
     },
     "execution_count": 6,
     "metadata": {},
     "output_type": "execute_result"
    }
   ],
   "source": [
    "function handle(f)\n",
    "    p = read_problem(f * \".in\")\n",
    "    solve(p)\n",
    "    write_solution(f * \".out\", p)\n",
    "    return p\n",
    "end"
   ]
  },
  {
   "cell_type": "code",
   "execution_count": 115,
   "metadata": {
    "collapsed": false
   },
   "outputs": [
    {
     "name": "stderr",
     "output_type": "stream",
     "text": [
      "WARNING: Method definition solve("
     ]
    },
    {
     "data": {
      "text/plain": [
       "solve (generic function with 1 method)"
      ]
     },
     "execution_count": 115,
     "metadata": {},
     "output_type": "execute_result"
    },
    {
     "name": "stderr",
     "output_type": "stream",
     "text": [
      "Any) in module Main at In[113]:2 overwritten at In[115]:2.\n"
     ]
    }
   ],
   "source": [
    "function solve(p)\n",
    "    endpoint_count = [length(p.endpoint_to_cache_to_latency[i]) for i in 1:p.E]\n",
    "    endpoint_meta = [length(p.endpoint_to_cache_to_latency[i]) > 0 ? mean(values(p.endpoint_to_cache_to_latency[i])):  p.dc_latencies[i] - 1 for i in 1:p.E]\n",
    "    sort!(p.video_endpoint_popularity, by=x -> (1/p.video_sizes[x[1]])*(p.dc_latencies[x[2]] - endpoint_meta[x[2]]) * x[3]/ sqrt(endpoint_count[x[2]]), rev=true)\n",
    "    p.cache_to_videos = [IntSet() for _ in 1:p.C]\n",
    "    p.cache_size = fill(UInt32(0), p.C)\n",
    "    for (v, e, pop) in p.video_endpoint_popularity\n",
    "        c_min, l_min = Inf, Inf\n",
    "        for (c, l) in p.endpoint_to_cache_to_latency[e]\n",
    "            if in(v, p.cache_to_videos[c])\n",
    "                l_min = Inf\n",
    "                break\n",
    "            end\n",
    "            if p.video_sizes[v] + p.cache_size[c] <= p.X\n",
    "                if l_min > l\n",
    "                    c_min, l_min = c, l\n",
    "                end\n",
    "            end\n",
    "        end\n",
    "        if l_min != Inf\n",
    "            d = join([dec(k) * \"->\" * dec(v) for (k, v) in p.endpoint_to_cache_to_latency[e]], \" \")\n",
    "            p.cache_size[c_min] += p.video_sizes[v]\n",
    "            push!(p.cache_to_videos[c_min], v)\n",
    "        end\n",
    "    end\n",
    "end"
   ]
  },
  {
   "cell_type": "code",
   "execution_count": 116,
   "metadata": {
    "collapsed": false,
    "scrolled": true
   },
   "outputs": [
    {
     "name": "stdout",
     "output_type": "stream",
     "text": [
      "start videos_worth_spreading\n",
      "  2.649781 seconds (27.80 M allocations: 4.364 GB, 20.53% gc time)\n",
      "  0.030596 seconds (100.00 k allocations: 1.526 MB)\n",
      "done videos_worth_spreading 375844\n",
      "start trending_today\n",
      "  2.426721 seconds (11.95 M allocations: 4.750 GB, 20.71% gc time)\n",
      "  0.224903 seconds (100.00 k allocations: 1.526 MB, 1.45% gc time)\n",
      "done trending_today 499921\n",
      "start me_at_the_zoo\n",
      "  0.006007 seconds (7.07 k allocations: 5.937 MB)\n",
      "  0.000035 seconds (101 allocations: 1.578 KB)\n",
      "done me_at_the_zoo 486214\n",
      "start kittens\n",
      " 12.735325 seconds (49.24 M allocations: 23.311 GB, 18.56% gc time)\n",
      "  2.557762 seconds (200.00 k allocations: 3.052 MB)\n",
      "done kittens 758673\n",
      "758673\n",
      "486214\n",
      "499921\n",
      "375844\n",
      "2120652\n"
     ]
    }
   ],
   "source": [
    "r = []\n",
    "for k in [\"videos_worth_spreading\", \"trending_today\", \"me_at_the_zoo\", \"kittens\"]\n",
    "    println(\"start $k\")\n",
    "    @time p = handle(k)\n",
    "    @time v = score(p)\n",
    "    println(\"done $k $(dec(v))\")\n",
    "    push!(r, v)\n",
    "end\n",
    "for i in reverse(r)\n",
    "    println(dec(i))\n",
    "end\n",
    "println(dec(sum(r)))"
   ]
  },
  {
   "cell_type": "code",
   "execution_count": 89,
   "metadata": {
    "collapsed": false
   },
   "outputs": [
    {
     "name": "stdout",
     "output_type": "stream",
     "text": [
      "  2.344118 seconds (11.92 M allocations: 4.748 GB, 20.84% gc time)\n",
      "  0.216803 seconds (100.01 k allocations: 1.526 MB)\n"
     ]
    },
    {
     "data": {
      "text/plain": [
       "0x00051c77"
      ]
     },
     "execution_count": 89,
     "metadata": {},
     "output_type": "execute_result"
    }
   ],
   "source": [
    "k=\"trending_today\"\n",
    "@time p = handle(k)"
   ]
  },
  {
   "cell_type": "code",
   "execution_count": 91,
   "metadata": {
    "collapsed": false
   },
   "outputs": [
    {
     "name": "stdout",
     "output_type": "stream",
     "text": [
      "  0.243270 seconds (100.00 k allocations: 1.526 MB)\n"
     ]
    },
    {
     "data": {
      "text/plain": [
       "0x00051c77"
      ]
     },
     "execution_count": 91,
     "metadata": {},
     "output_type": "execute_result"
    }
   ],
   "source": [
    "@time v = score(p)"
   ]
  },
  {
   "cell_type": "code",
   "execution_count": 112,
   "metadata": {
    "collapsed": false
   },
   "outputs": [
    {
     "data": {
      "text/plain": [
       "8"
      ]
     },
     "execution_count": 112,
     "metadata": {},
     "output_type": "execute_result"
    }
   ],
   "source": [
    "2^3"
   ]
  },
  {
   "cell_type": "code",
   "execution_count": null,
   "metadata": {
    "collapsed": true
   },
   "outputs": [],
   "source": []
  }
 ],
 "metadata": {
  "anaconda-cloud": {},
  "kernelspec": {
   "display_name": "Julia 0.5.0",
   "language": "julia",
   "name": "julia-0.5"
  },
  "language_info": {
   "file_extension": ".jl",
   "mimetype": "application/julia",
   "name": "julia",
   "version": "0.5.0"
  }
 },
 "nbformat": 4,
 "nbformat_minor": 1
}
